{
 "cells": [
  {
   "cell_type": "markdown",
   "metadata": {
    "id": "MBlxDToRt_0v"
   },
   "source": [
    "## 컬렉션 메소드"
   ]
  },
  {
   "cell_type": "markdown",
   "metadata": {
    "id": "9xegzzX8uDcv"
   },
   "source": [
    "### 1) 리스트"
   ]
  },
  {
   "cell_type": "code",
   "execution_count": 15,
   "metadata": {
    "colab": {
     "base_uri": "https://localhost:8080/"
    },
    "executionInfo": {
     "elapsed": 8,
     "status": "ok",
     "timestamp": 1756083587780,
     "user": {
      "displayName": "박주영",
      "userId": "11105777426018789133"
     },
     "user_tz": -540
    },
    "id": "DI_CPJTntUk-",
    "outputId": "43547608-a9ac-420a-fb58-59ee9d829b26"
   },
   "outputs": [
    {
     "name": "stdout",
     "output_type": "stream",
     "text": [
      "[10, 20, 30, 40, 50, 60, 70] <class 'list'>\n",
      "10 <class 'int'>\n",
      "100\n",
      "[100, 20, 30, 40, 50, 60, 70]\n"
     ]
    }
   ],
   "source": [
    "# 리스트 요소 수정\n",
    "# 리스트명[idx] = 수정할 값\n",
    "li1 = [10, 20, 30, 40, 50, 60, 70]\n",
    "print(li1, type(li1))\n",
    "print(li1[0], type(li1[0])) # 리스트의 인덱스 0번째 요소\n",
    "\n",
    "li1[0] = 100 # li1의 0번째 위치 값 100으로 수정\n",
    "print(li1[0])\n",
    "print(li1)"
   ]
  },
  {
   "cell_type": "code",
   "execution_count": 25,
   "metadata": {
    "colab": {
     "base_uri": "https://localhost:8080/"
    },
    "executionInfo": {
     "elapsed": 3,
     "status": "ok",
     "timestamp": 1756083940989,
     "user": {
      "displayName": "박주영",
      "userId": "11105777426018789133"
     },
     "user_tz": -540
    },
    "id": "wsD8l0yBvQo_",
    "outputId": "a4cb4319-a55a-426a-9303-de80f30beb41"
   },
   "outputs": [
    {
     "name": "stdout",
     "output_type": "stream",
     "text": [
      "[1, 3, 5, 7, 9] <class 'list'>\n",
      "[1, 3, 5, 7, 9, 10]\n",
      "[1, 2, 3, 5, 7, 9, 10]\n",
      "[1, 2, 3, 5, 7, 9, 10, 50, 70, 90]\n",
      "[1, 2, 3, 5, 7, 9, 10, 70, 90]\n",
      "[2, 3, 5, 7, 9, 10, 70, 90]\n",
      "[2, 3, 5, 7, 9, 10, 70]\n"
     ]
    }
   ],
   "source": [
    "from re import L\n",
    "# 리스트 메소드\n",
    "\n",
    "li1 = [1, 3, 5, 7, 9]\n",
    "print(li1, type(li1))\n",
    "\n",
    "# .append(값)\n",
    "li1.append(10)\n",
    "print(li1) #li1의 맨 끝에 10 추가\n",
    "\n",
    "# .insert(idx, 값)\n",
    "li1.insert(1, 2) # 1번 인덱스 자리에 2를 추가\n",
    "print(li1)\n",
    "\n",
    "# .extend()\n",
    "li2 = [50, 70, 90]\n",
    "li1.extend(li2) # li1에 li2의 요소들 연결(추가)\n",
    "print(li1)\n",
    "\n",
    "# .remove(값)\n",
    "li1.remove(50) # li1에 있는 50을 삭제\n",
    "print(li1)\n",
    "\n",
    "# .pop(idx)\n",
    "li1.pop(0) # li1의 0번 위치의 값 삭제\n",
    "print(li1)\n",
    "\n",
    "li1.pop() # li1의 맨 끝의 요소 삭제\n",
    "print(li1)"
   ]
  },
  {
   "cell_type": "code",
   "execution_count": 32,
   "metadata": {
    "colab": {
     "base_uri": "https://localhost:8080/"
    },
    "executionInfo": {
     "elapsed": 3,
     "status": "ok",
     "timestamp": 1756084188364,
     "user": {
      "displayName": "박주영",
      "userId": "11105777426018789133"
     },
     "user_tz": -540
    },
    "id": "Mm91Kl7Xwm4J",
    "outputId": "58df41ab-af64-4629-c83a-9dd84c8f928f"
   },
   "outputs": [
    {
     "name": "stdout",
     "output_type": "stream",
     "text": [
      "[1, 3, 2, 5, 2, 5, 4, 6, 1] <class 'list'>\n",
      "[1, 1, 2, 2, 3, 4, 5, 5, 6]\n",
      "[6, 5, 5, 4, 3, 2, 2, 1, 1]\n",
      "['a', 4, True, 3.3] <class 'list'>\n",
      "[3.3, True, 4, 'a']\n",
      "[]\n"
     ]
    }
   ],
   "source": [
    "# 정렬\n",
    "# .sort()\n",
    "li = [1, 3, 2, 5, 2, 5, 4, 6, 1]\n",
    "print(li, type(li1))\n",
    "\n",
    "li.sort()\n",
    "print(li) # 리스트 요소 오름차순 정렬\n",
    "\n",
    "# .sort(reverse = True)\n",
    "li.sort(reverse = True)\n",
    "print(li) # 리스트 요소 내림차순 정렬\n",
    "\n",
    "# .reverse()\n",
    "li2 = [\"a\", 4, True, 3.3]\n",
    "print(li2, type(li2))\n",
    "\n",
    "li2.reverse()\n",
    "print(li2) # 리스트 요소 역순 정렬\n",
    "\n",
    "# .clear() : 리스트 요소 전체 삭제\n",
    "li2.clear()\n",
    "print(li2)"
   ]
  },
  {
   "cell_type": "code",
   "execution_count": 39,
   "metadata": {
    "colab": {
     "base_uri": "https://localhost:8080/"
    },
    "executionInfo": {
     "elapsed": 12,
     "status": "ok",
     "timestamp": 1756084380316,
     "user": {
      "displayName": "박주영",
      "userId": "11105777426018789133"
     },
     "user_tz": -540
    },
    "id": "cVu5HkETxjRH",
    "outputId": "0ffeb291-3f53-4c94-afd7-f4d599f048a9"
   },
   "outputs": [
    {
     "name": "stdout",
     "output_type": "stream",
     "text": [
      "['봄', '여름', '가을', '겨울'] <class 'list'>\n",
      "True\n",
      "True\n"
     ]
    }
   ],
   "source": [
    "# +) in, not in 연산 (컬렉션이나 반복가능 객체에서 사용)\n",
    "#    : 있는지 없는지를 물어보는 연산 => True, False\n",
    "\n",
    "li = [\"봄\", \"여름\", \"가을\", \"겨울\"]\n",
    "print(li, type(li))\n",
    "print(\"봄\" in li) # \"봄\"이라는 값이 li에 있나요? => True\n",
    "print(\"사자\" not in li) # \"사자\"라는 값이 li에 없나요? => True"
   ]
  },
  {
   "cell_type": "markdown",
   "metadata": {
    "id": "co2ZPmX6yTSh"
   },
   "source": [
    "### 2) 튜플"
   ]
  },
  {
   "cell_type": "code",
   "execution_count": 49,
   "metadata": {
    "colab": {
     "base_uri": "https://localhost:8080/"
    },
    "executionInfo": {
     "elapsed": 73,
     "status": "ok",
     "timestamp": 1756084604991,
     "user": {
      "displayName": "박주영",
      "userId": "11105777426018789133"
     },
     "user_tz": -540
    },
    "id": "XutxWWOnyVF6",
    "outputId": "c6dffd2a-e7bb-467f-c8d1-10101ed93ac5"
   },
   "outputs": [
    {
     "name": "stdout",
     "output_type": "stream",
     "text": [
      "(10, 20, 30, 10, 10, 'a', 'b', 50) <class 'tuple'>\n",
      "10 <class 'int'>\n",
      "(10, 20, 30, 10) <class 'tuple'>\n"
     ]
    }
   ],
   "source": [
    "tu = (10, 20, 30, 10, 10, \"a\", \"b\", 50)\n",
    "print(tu, type(tu))\n",
    "# 튜플은 시퀀스 자료형(인덱싱, 슬라이싱 가능)\n",
    "print(tu[0], type(tu[0]))\n",
    "print(tu[:4], type(tu[:4]))\n",
    "\n",
    "# 튜플은 인덱스 번호를 사용하여 수정 불가\n",
    "# tu[0] = 100\n",
    "# print(tu)"
   ]
  },
  {
   "cell_type": "code",
   "execution_count": 53,
   "metadata": {
    "colab": {
     "base_uri": "https://localhost:8080/",
     "height": 269
    },
    "executionInfo": {
     "elapsed": 13,
     "status": "error",
     "timestamp": 1756084728507,
     "user": {
      "displayName": "박주영",
      "userId": "11105777426018789133"
     },
     "user_tz": -540
    },
    "id": "5Za2OPnUzI7Y",
    "outputId": "909bc569-fca3-4f13-d1f8-576a9844bc23"
   },
   "outputs": [
    {
     "name": "stdout",
     "output_type": "stream",
     "text": [
      "(1, 2, 3, 4, 1, 2, 3, 1, 2) <class 'tuple'>\n",
      "3\n",
      "0\n"
     ]
    },
    {
     "ename": "AttributeError",
     "evalue": "'tuple' object has no attribute 'append'",
     "output_type": "error",
     "traceback": [
      "\u001b[0;31m---------------------------------------------------------------------------\u001b[0m",
      "\u001b[0;31mAttributeError\u001b[0m                            Traceback (most recent call last)",
      "\u001b[0;32m/tmp/ipython-input-4289455269.py\u001b[0m in \u001b[0;36m<cell line: 0>\u001b[0;34m()\u001b[0m\n\u001b[1;32m      7\u001b[0m                    \u001b[0;31m# 중복된 값을 찾고자 하면 맨 앞에 있는 인덱스 번호를 알려줌\u001b[0m\u001b[0;34m\u001b[0m\u001b[0;34m\u001b[0m\u001b[0m\n\u001b[1;32m      8\u001b[0m \u001b[0;34m\u001b[0m\u001b[0m\n\u001b[0;32m----> 9\u001b[0;31m \u001b[0mtu\u001b[0m\u001b[0;34m.\u001b[0m\u001b[0mappend\u001b[0m\u001b[0;34m(\u001b[0m\u001b[0;36m100\u001b[0m\u001b[0;34m)\u001b[0m\u001b[0;34m\u001b[0m\u001b[0;34m\u001b[0m\u001b[0m\n\u001b[0m",
      "\u001b[0;31mAttributeError\u001b[0m: 'tuple' object has no attribute 'append'"
     ]
    }
   ],
   "source": [
    "# 튜플의 메소드\n",
    "tu = (1, 2, 3, 4, 1, 2, 3, 1, 2)\n",
    "print(tu, type(tu))\n",
    "\n",
    "print(tu.count(1)) # tu에서 1이라는 값이 몇개인지 알려줘\n",
    "print(tu.index(1)) # tu에서 1이라는 값이 몇번째 위치에 있는지 알려줘\n",
    "                   # 중복된 값을 찾고자 하면 맨 앞에 있는 인덱스 번호를 알려줌\n",
    "\n"
   ]
  }
 ],
 "metadata": {
  "colab": {
   "authorship_tag": "ABX9TyNZmLmX6kmzk8nfGOmnq0qz",
   "provenance": []
  },
  "kernelspec": {
   "display_name": "Python 3",
   "name": "python3"
  },
  "language_info": {
   "name": "python"
  }
 },
 "nbformat": 4,
 "nbformat_minor": 0
}
