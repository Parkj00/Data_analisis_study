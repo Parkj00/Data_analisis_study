{
 "cells": [
  {
   "cell_type": "markdown",
   "id": "ed3f8221-5e0a-4aec-8c1b-8125f7a2201c",
   "metadata": {},
   "source": [
    "# 판다스 자료구조\n",
    "- 분석을 위해 수집하는 데이터는 형태나 속성이 매우 다양함\n",
    "  - 서로 다른 형식을 갖는 여러 종류의 데이터를 컴퓨터가 이해할 수 있도록 동일한 형식을 갖는 구조로 통합할 필요가 있음 \n",
    "- 판다스 데이터의 형식\n",
    "  - 시리즈(Series)\n",
    "    - 1차원 배열\n",
    "  - 데이터프레임(DataFrame)\n",
    "    - 2차원 배열"
   ]
  },
  {
   "cell_type": "markdown",
   "id": "2e4ecd2d-3d83-4491-b27b-fd342ea35002",
   "metadata": {},
   "source": [
    "## 시리즈(Series)\n",
    "- 데이터가 순차적으로 나열된 1차원 배열\n",
    "- 각 인덱스(index)와 값(value)이 1:1 대응이 됨\n",
    "  - 키와 값이 짝을 이루는 딕셔너리와 비슷한 구조\n",
    "  - 시리즈에서 인덱스는 데이터 값의 위치를 나타내는 이름표 역할을 수행"
   ]
  },
  {
   "cell_type": "markdown",
   "id": "568996b5-31cd-41c0-8935-bfcc08acfa6f",
   "metadata": {},
   "source": [
    "## 데이터프레임(DataFrame)\n",
    "- 행과 열로 이루어진 2차원 배열\n",
    "  - 데이터프레임의 열은 각각 시리즈 객체\n",
    "  - 여러 개의 시리즈들이 같은 행 인덱스를 기준으로 결합된 2차원 행렬\n",
    "\n",
    "- 행과 열을 나타내기 위해 두 가지 종류의 주소를 사용\n",
    "  - 행 인덱스\n",
    "    - 개별 관측대상에 대한 다양한 속성 데이터들의 모음\n",
    "      - 레코드(record)\n",
    "  - 열 이름\n",
    "    - 공통의 속성을 갖는 일련의 데이터\n",
    "   \n",
    "\n",
    "\n",
    "  - 예시) 주식 종목 데이터\n",
    "    - 행 : 각 주식 종목에 대한 관측값\n",
    "    - 열 : 회사 이름, 총 주식 수, 액면가 등등"
   ]
  },
  {
   "cell_type": "markdown",
   "id": "1075efc4-fd24-4cb1-99c7-a2eea2e020f0",
   "metadata": {},
   "source": [
    "### 시리즈 생성"
   ]
  },
  {
   "cell_type": "code",
   "execution_count": 1,
   "id": "9a03358a-8b39-4e57-a202-9519600a7a17",
   "metadata": {},
   "outputs": [],
   "source": [
    "# 라이브러리 로드\n",
    "import pandas as pd"
   ]
  },
  {
   "cell_type": "code",
   "execution_count": 2,
   "id": "a6508f24-0674-4f91-b5cf-2189f821cabf",
   "metadata": {},
   "outputs": [
    {
     "data": {
      "text/plain": [
       "'2.3.2'"
      ]
     },
     "execution_count": 2,
     "metadata": {},
     "output_type": "execute_result"
    }
   ],
   "source": [
    "pd.__version__"
   ]
  },
  {
   "cell_type": "code",
   "execution_count": 3,
   "id": "55b9cd5d-2772-498d-8ac0-62a109d20e72",
   "metadata": {},
   "outputs": [],
   "source": [
    "# 딕셔너리 생성\n",
    "dict_data = {\"이름\" : \"이상해씨\", \"진화형\" : \"이상해풀\", \"타입\" : \"풀\"}"
   ]
  },
  {
   "cell_type": "code",
   "execution_count": 4,
   "id": "4882b4ce-2b03-46b5-bfda-1c804be287a1",
   "metadata": {},
   "outputs": [],
   "source": [
    "# 딕셔너리를 판다스 시리즈로 변환\n",
    "sr = pd.Series(dict_data)"
   ]
  },
  {
   "cell_type": "code",
   "execution_count": 5,
   "id": "552d1b06-eb08-4a4c-8afc-294ae879d9bb",
   "metadata": {},
   "outputs": [
    {
     "name": "stdout",
     "output_type": "stream",
     "text": [
      "<class 'pandas.core.series.Series'>\n",
      "\n",
      "이름     이상해씨\n",
      "진화형    이상해풀\n",
      "타입        풀\n",
      "dtype: object\n"
     ]
    }
   ],
   "source": [
    "print(type(sr))\n",
    "print()\n",
    "print(sr)"
   ]
  },
  {
   "cell_type": "code",
   "execution_count": 7,
   "id": "de5960cc-a6b8-4e44-ada7-490661b64d48",
   "metadata": {},
   "outputs": [
    {
     "data": {
      "text/plain": [
       "dtype('O')"
      ]
     },
     "execution_count": 7,
     "metadata": {},
     "output_type": "execute_result"
    }
   ],
   "source": [
    "# 시리즈를 구성하는 데이터 값의 자료형 확인\n",
    "sr.dtypes\n",
    "# 'O' object"
   ]
  },
  {
   "cell_type": "code",
   "execution_count": 8,
   "id": "166446d7-7f9a-4b9e-98f7-5de706cd8f83",
   "metadata": {},
   "outputs": [
    {
     "data": {
      "text/plain": [
       "Index(['이름', '진화형', '타입'], dtype='object')"
      ]
     },
     "execution_count": 8,
     "metadata": {},
     "output_type": "execute_result"
    }
   ],
   "source": [
    "# 시리즈의 인덱스 배열\n",
    "sr.index"
   ]
  },
  {
   "cell_type": "code",
   "execution_count": 9,
   "id": "5d7841d4-1814-4585-90d7-dbff57fc193c",
   "metadata": {},
   "outputs": [
    {
     "data": {
      "text/plain": [
       "array(['이상해씨', '이상해풀', '풀'], dtype=object)"
      ]
     },
     "execution_count": 9,
     "metadata": {},
     "output_type": "execute_result"
    }
   ],
   "source": [
    "# 시리즈의 값 배열\n",
    "sr.values"
   ]
  },
  {
   "cell_type": "code",
   "execution_count": 10,
   "id": "ffe736e5-d2ae-4fb7-ac87-1a21fcfdb686",
   "metadata": {},
   "outputs": [],
   "source": [
    "dict_data = {\"a\" : 1, \"b\" : 2, \"c\" : 3}"
   ]
  },
  {
   "cell_type": "code",
   "execution_count": 11,
   "id": "dd4f7fd4-b7d8-479c-8c50-dbde1a5fc4e7",
   "metadata": {},
   "outputs": [],
   "source": [
    "sr = pd.Series(dict_data)"
   ]
  },
  {
   "cell_type": "code",
   "execution_count": 12,
   "id": "826fd441-c7c0-4169-a76f-1e69865d56de",
   "metadata": {},
   "outputs": [
    {
     "name": "stdout",
     "output_type": "stream",
     "text": [
      "<class 'pandas.core.series.Series'>\n",
      "\n",
      "a    1\n",
      "b    2\n",
      "c    3\n",
      "dtype: int64\n"
     ]
    }
   ],
   "source": [
    "print(type(sr))\n",
    "print()\n",
    "print(sr)"
   ]
  },
  {
   "cell_type": "code",
   "execution_count": 13,
   "id": "4fcce8b0-c966-4e7f-a19d-9579445d3fef",
   "metadata": {},
   "outputs": [
    {
     "data": {
      "text/plain": [
       "dtype('int64')"
      ]
     },
     "execution_count": 13,
     "metadata": {},
     "output_type": "execute_result"
    }
   ],
   "source": [
    "sr.dtypes"
   ]
  },
  {
   "cell_type": "code",
   "execution_count": 14,
   "id": "2f1c90b0-d976-403c-ae36-50c04b2f2450",
   "metadata": {},
   "outputs": [
    {
     "data": {
      "text/plain": [
       "Index(['a', 'b', 'c'], dtype='object')"
      ]
     },
     "execution_count": 14,
     "metadata": {},
     "output_type": "execute_result"
    }
   ],
   "source": [
    "sr.index"
   ]
  },
  {
   "cell_type": "code",
   "execution_count": 15,
   "id": "5fa616cd-ea07-4c54-8579-bc611e16abec",
   "metadata": {},
   "outputs": [
    {
     "data": {
      "text/plain": [
       "array([1, 2, 3])"
      ]
     },
     "execution_count": 15,
     "metadata": {},
     "output_type": "execute_result"
    }
   ],
   "source": [
    "sr.values"
   ]
  },
  {
   "cell_type": "markdown",
   "id": "30097f1f-5dd0-4bf9-82d2-e817e6ef6423",
   "metadata": {},
   "source": [
    "- 파이썬 리스트를 시리즈로 변환\n",
    "  - 리스트를 시리즈로 변환하면 인덱스로 변환될 값이 없음\n",
    "    - 인덱스가 별도로 정의되지 않으면 정수형 위치 인덱스(0, 1, 2, ..)가 자동으로 저장"
   ]
  },
  {
   "cell_type": "code",
   "execution_count": 16,
   "id": "e666fa6b-96a3-4a85-8562-04a84b0b8e58",
   "metadata": {},
   "outputs": [],
   "source": [
    "#리스트를 시리즈로 변환\n",
    "list_data = [\"이상해씨\", \"이상해풀\", 45, True]"
   ]
  },
  {
   "cell_type": "code",
   "execution_count": 17,
   "id": "686330cc-6ad9-463c-a8d5-f44a324954ef",
   "metadata": {},
   "outputs": [],
   "source": [
    "sr = pd.Series(list_data)"
   ]
  },
  {
   "cell_type": "code",
   "execution_count": 18,
   "id": "edd43b37-75a1-4491-af14-fa750b5ea6d1",
   "metadata": {},
   "outputs": [
    {
     "name": "stdout",
     "output_type": "stream",
     "text": [
      "0    이상해씨\n",
      "1    이상해풀\n",
      "2      45\n",
      "3    True\n",
      "dtype: object\n"
     ]
    }
   ],
   "source": [
    "print(sr)"
   ]
  },
  {
   "cell_type": "code",
   "execution_count": 19,
   "id": "cddee826-c0ce-464b-b063-7e0692b95fd8",
   "metadata": {},
   "outputs": [
    {
     "data": {
      "text/plain": [
       "RangeIndex(start=0, stop=4, step=1)"
      ]
     },
     "execution_count": 19,
     "metadata": {},
     "output_type": "execute_result"
    }
   ],
   "source": [
    "sr.index"
   ]
  },
  {
   "cell_type": "code",
   "execution_count": 20,
   "id": "abb17bfd-bb11-4665-80a2-c597c67287e6",
   "metadata": {},
   "outputs": [
    {
     "data": {
      "text/plain": [
       "array(['이상해씨', '이상해풀', 45, True], dtype=object)"
      ]
     },
     "execution_count": 20,
     "metadata": {},
     "output_type": "execute_result"
    }
   ],
   "source": [
    "sr.values"
   ]
  },
  {
   "cell_type": "code",
   "execution_count": 21,
   "id": "8c76e7cc-96dc-4c76-a6cb-d8ac0c799553",
   "metadata": {},
   "outputs": [
    {
     "data": {
      "text/plain": [
       "dtype('O')"
      ]
     },
     "execution_count": 21,
     "metadata": {},
     "output_type": "execute_result"
    }
   ],
   "source": [
    "sr.dtypes"
   ]
  },
  {
   "cell_type": "code",
   "execution_count": 25,
   "id": "e9dc3fac-fcaa-4530-84e5-e448b16170f0",
   "metadata": {},
   "outputs": [],
   "source": [
    "# 튜플을 시리즈로 변환\n",
    "tup_data = (\"이상해씨\", \"이상해풀\", \"풀\", 45)"
   ]
  },
  {
   "cell_type": "code",
   "execution_count": 28,
   "id": "cda2b155-d7d8-4eac-bbfb-639c8828ca8c",
   "metadata": {},
   "outputs": [],
   "source": [
    "sr = pd.Series(tup_data, index = [\"이름\", \"진화형\", \"타입\", \"체력\"])"
   ]
  },
  {
   "cell_type": "code",
   "execution_count": 29,
   "id": "b56a9a11-5857-434d-8ad4-d69a2dbcc6ef",
   "metadata": {},
   "outputs": [
    {
     "data": {
      "text/plain": [
       "이름     이상해씨\n",
       "진화형    이상해풀\n",
       "타입        풀\n",
       "체력       45\n",
       "dtype: object"
      ]
     },
     "execution_count": 29,
     "metadata": {},
     "output_type": "execute_result"
    }
   ],
   "source": [
    "sr"
   ]
  },
  {
   "cell_type": "markdown",
   "id": "5a17c279-167b-4043-acc3-dc5fa2807673",
   "metadata": {},
   "source": [
    "### 원소 선택\n",
    "- 인덱스를 이용하여 원소를 선택할 수 있음\n",
    "  - 하나의 원소를 선택\n",
    "  - 여러 원소를 한꺼번에 선택\n",
    "  - 인덱스 범위를 지정하여 원소를 선택\n",
    "\n",
    "- 정수형 위치 인덱스는 대괄호 안에 위치를 나타내는 숫자를 입력\n",
    "- 인덱스 이름은 \"\"와 함께 입력\n"
   ]
  },
  {
   "cell_type": "code",
   "execution_count": 35,
   "id": "2ad176f3-f12c-4310-87d3-b9a42bf39bf6",
   "metadata": {},
   "outputs": [
    {
     "name": "stdout",
     "output_type": "stream",
     "text": [
      "이상해씨\n",
      "이상해씨\n"
     ]
    }
   ],
   "source": [
    "# 원소 1개 선택\n",
    "print(sr.iloc[0])\n",
    "print(sr.loc[\"이름\"])\n",
    "# sr.iloc 정수를 사용하여 위치를 선택\n",
    "# sr.loc 문자열을 사용하여 위치를 선택"
   ]
  },
  {
   "cell_type": "code",
   "execution_count": 46,
   "id": "2644066f-ec6c-4031-8080-9eb312459805",
   "metadata": {},
   "outputs": [
    {
     "name": "stdout",
     "output_type": "stream",
     "text": [
      "진화형    이상해풀\n",
      "타입        풀\n",
      "dtype: object\n",
      "진화형    이상해풀\n",
      "타입        풀\n",
      "dtype: object\n"
     ]
    }
   ],
   "source": [
    "# 여러 원소 선택(인덱스 리스트 활용)\n",
    "print(sr.iloc[[1,2]]) # 인덱스가 하나의 덩어리가 되야 때문에 [[ ]] 로 해야함\n",
    "print(sr.loc[[\"진화형\",\"타입\"]])"
   ]
  },
  {
   "cell_type": "code",
   "execution_count": 44,
   "id": "71afcddf-ea28-4b6a-93e9-dd13459be144",
   "metadata": {},
   "outputs": [
    {
     "name": "stdout",
     "output_type": "stream",
     "text": [
      "진화형    이상해풀\n",
      "dtype: object\n",
      "\n",
      "진화형    이상해풀\n",
      "타입        풀\n",
      "dtype: object\n"
     ]
    }
   ],
   "source": [
    "# 여러 원소 선택(인덱스 범위 지정)\n",
    "print(sr.iloc[1:2]) # 범위 지정은 [ ]\n",
    "print()\n",
    "print(sr.loc[\"진화형\" : \"타입\"])"
   ]
  },
  {
   "cell_type": "code",
   "execution_count": null,
   "id": "603eea19-83cc-4e1b-b8de-1fdd592fb529",
   "metadata": {},
   "outputs": [],
   "source": []
  }
 ],
 "metadata": {
  "kernelspec": {
   "display_name": "Python 3 (ipykernel)",
   "language": "python",
   "name": "python3"
  },
  "language_info": {
   "codemirror_mode": {
    "name": "ipython",
    "version": 3
   },
   "file_extension": ".py",
   "mimetype": "text/x-python",
   "name": "python",
   "nbconvert_exporter": "python",
   "pygments_lexer": "ipython3",
   "version": "3.13.5"
  }
 },
 "nbformat": 4,
 "nbformat_minor": 5
}
