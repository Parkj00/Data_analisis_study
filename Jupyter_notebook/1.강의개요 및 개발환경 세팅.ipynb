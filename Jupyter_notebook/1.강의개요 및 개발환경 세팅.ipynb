{
 "cells": [
  {
   "cell_type": "markdown",
   "id": "662d5e71-2f62-4c5e-930b-5f7ef8ba27fc",
   "metadata": {},
   "source": [
    "# 판다스\n",
    "\n",
    "- 파이썬의 데이터 분석 라이브러리\n",
    "- 데이터를 정리, 전처리, 분석하는 역할\n",
    "- 여러 가지 유형의 데이터를 공통의 포맷으로 정리\n",
    "- 파이썬으로 데이터 분석 작업을 하는 사람들이 필수적으로 사용하는 라이브러리\n"
   ]
  },
  {
   "cell_type": "markdown",
   "id": "4d01956c-0ad6-4e84-b9a0-ed94b9513199",
   "metadata": {},
   "source": [
    "# 판다스의 주요 기능\n",
    "- 행과 열로 이루어진 표 형태의 데이터를 빠르고 효율적으로 조작하기 위한 DataFrame\n",
    "- CSV, 텍스트 파일, 엑셀, 데이터베이스 등의 다양한 데이터의 입출력\n",
    "- 데이터 정렬 및 누락 데이터 처리를 쉽게 조작\n",
    "- 데이터 형태를 유연하게 재구성\n",
    "- 데이터 추출 및 필터링\n",
    "- 데이터의 추가, 삭제, 병합\n",
    "- 데이터의 그룹별 집계, 연산, 정렬, 결합 등 그룹화 기능\n",
    "- 시계열 데이터 처리"
   ]
  },
  {
   "cell_type": "markdown",
   "id": "18f7d44b-3a1d-4bb8-8fe9-8d61731aca36",
   "metadata": {},
   "source": [
    "# 요약\n",
    "- 누구나 쉽게 데이터에 접근하고 데이터를 사용, 수정할 수 있는 유연하고 빠르고 강한 데이터 라이브러리"
   ]
  },
  {
   "cell_type": "code",
   "execution_count": null,
   "id": "184f26c4-8b68-4b75-b672-a15eacf2af0d",
   "metadata": {},
   "outputs": [],
   "source": []
  }
 ],
 "metadata": {
  "kernelspec": {
   "display_name": "Python 3 (ipykernel)",
   "language": "python",
   "name": "python3"
  },
  "language_info": {
   "codemirror_mode": {
    "name": "ipython",
    "version": 3
   },
   "file_extension": ".py",
   "mimetype": "text/x-python",
   "name": "python",
   "nbconvert_exporter": "python",
   "pygments_lexer": "ipython3",
   "version": "3.13.5"
  }
 },
 "nbformat": 4,
 "nbformat_minor": 5
}
