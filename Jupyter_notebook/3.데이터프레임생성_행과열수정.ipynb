{
 "cells": [
  {
   "cell_type": "markdown",
   "id": "2824808f-7a78-41d0-a8ef-d8ac597ef70c",
   "metadata": {},
   "source": [
    "# 데이터프레임 생성\n",
    "\n",
    "- 동일한 길이의 1차원 배열 여러 개가 필요"
   ]
  },
  {
   "cell_type": "code",
   "execution_count": 1,
   "id": "4074877c-ed0b-4db9-8e19-4842ba1c1466",
   "metadata": {},
   "outputs": [],
   "source": [
    "import pandas as pd"
   ]
  },
  {
   "cell_type": "code",
   "execution_count": 3,
   "id": "f798545e-f1d8-4637-af49-e254403571e9",
   "metadata": {},
   "outputs": [],
   "source": [
    "dict_data = {\"c0\" : [1,2,3],\n",
    "             \"c1\" : [4,5,6],\n",
    "             \"c2\" : [7,8,9]}"
   ]
  },
  {
   "cell_type": "code",
   "execution_count": 4,
   "id": "c6aef0de-7881-4a21-ac25-234cfc1134be",
   "metadata": {},
   "outputs": [],
   "source": [
    "# 딕셔너리를 데이터프레임으로 변환\n",
    "df = pd.DataFrame(dict_data)"
   ]
  },
  {
   "cell_type": "code",
   "execution_count": 5,
   "id": "93f6b45e-3732-4d7f-a466-1879f994d9c5",
   "metadata": {},
   "outputs": [
    {
     "data": {
      "text/plain": [
       "pandas.core.frame.DataFrame"
      ]
     },
     "execution_count": 5,
     "metadata": {},
     "output_type": "execute_result"
    }
   ],
   "source": [
    "type(df)"
   ]
  },
  {
   "cell_type": "code",
   "execution_count": 6,
   "id": "e4d07c9c-5f0b-4cf7-9eaf-6ee902bf16c5",
   "metadata": {},
   "outputs": [
    {
     "data": {
      "text/html": [
       "<div>\n",
       "<style scoped>\n",
       "    .dataframe tbody tr th:only-of-type {\n",
       "        vertical-align: middle;\n",
       "    }\n",
       "\n",
       "    .dataframe tbody tr th {\n",
       "        vertical-align: top;\n",
       "    }\n",
       "\n",
       "    .dataframe thead th {\n",
       "        text-align: right;\n",
       "    }\n",
       "</style>\n",
       "<table border=\"1\" class=\"dataframe\">\n",
       "  <thead>\n",
       "    <tr style=\"text-align: right;\">\n",
       "      <th></th>\n",
       "      <th>c0</th>\n",
       "      <th>c1</th>\n",
       "      <th>c2</th>\n",
       "    </tr>\n",
       "  </thead>\n",
       "  <tbody>\n",
       "    <tr>\n",
       "      <th>0</th>\n",
       "      <td>1</td>\n",
       "      <td>4</td>\n",
       "      <td>7</td>\n",
       "    </tr>\n",
       "    <tr>\n",
       "      <th>1</th>\n",
       "      <td>2</td>\n",
       "      <td>5</td>\n",
       "      <td>8</td>\n",
       "    </tr>\n",
       "    <tr>\n",
       "      <th>2</th>\n",
       "      <td>3</td>\n",
       "      <td>6</td>\n",
       "      <td>9</td>\n",
       "    </tr>\n",
       "  </tbody>\n",
       "</table>\n",
       "</div>"
      ],
      "text/plain": [
       "   c0  c1  c2\n",
       "0   1   4   7\n",
       "1   2   5   8\n",
       "2   3   6   9"
      ]
     },
     "execution_count": 6,
     "metadata": {},
     "output_type": "execute_result"
    }
   ],
   "source": [
    "df"
   ]
  },
  {
   "cell_type": "markdown",
   "id": "c89c1847-192d-43d9-9197-774fccb962bc",
   "metadata": {},
   "source": [
    "# 행 인덱스/열 이름 설정"
   ]
  },
  {
   "cell_type": "code",
   "execution_count": 9,
   "id": "4ecbffd0-4595-4ede-b00b-c82a80c52128",
   "metadata": {},
   "outputs": [],
   "source": [
    "df = pd.DataFrame([[2000, \"페퍼로니피자\"],\n",
    "                  [4000, \"불족발\"]],\n",
    "                 index = [\"A피자\", \"B족발\"],\n",
    "                 columns = [\"가격\", \"대표메뉴\"])"
   ]
  },
  {
   "cell_type": "code",
   "execution_count": 10,
   "id": "eb919d64-d1cf-4c3c-9bb3-c7576e061623",
   "metadata": {},
   "outputs": [
    {
     "data": {
      "text/html": [
       "<div>\n",
       "<style scoped>\n",
       "    .dataframe tbody tr th:only-of-type {\n",
       "        vertical-align: middle;\n",
       "    }\n",
       "\n",
       "    .dataframe tbody tr th {\n",
       "        vertical-align: top;\n",
       "    }\n",
       "\n",
       "    .dataframe thead th {\n",
       "        text-align: right;\n",
       "    }\n",
       "</style>\n",
       "<table border=\"1\" class=\"dataframe\">\n",
       "  <thead>\n",
       "    <tr style=\"text-align: right;\">\n",
       "      <th></th>\n",
       "      <th>가격</th>\n",
       "      <th>대표메뉴</th>\n",
       "    </tr>\n",
       "  </thead>\n",
       "  <tbody>\n",
       "    <tr>\n",
       "      <th>A피자</th>\n",
       "      <td>2000</td>\n",
       "      <td>페퍼로니피자</td>\n",
       "    </tr>\n",
       "    <tr>\n",
       "      <th>B족발</th>\n",
       "      <td>4000</td>\n",
       "      <td>불족발</td>\n",
       "    </tr>\n",
       "  </tbody>\n",
       "</table>\n",
       "</div>"
      ],
      "text/plain": [
       "       가격    대표메뉴\n",
       "A피자  2000  페퍼로니피자\n",
       "B족발  4000     불족발"
      ]
     },
     "execution_count": 10,
     "metadata": {},
     "output_type": "execute_result"
    }
   ],
   "source": [
    "df"
   ]
  },
  {
   "cell_type": "code",
   "execution_count": 12,
   "id": "938884f3-fe85-4279-a6b9-10bae2f18ad7",
   "metadata": {},
   "outputs": [
    {
     "data": {
      "text/plain": [
       "Index(['A피자', 'B족발'], dtype='object')"
      ]
     },
     "execution_count": 12,
     "metadata": {},
     "output_type": "execute_result"
    }
   ],
   "source": [
    "# 행 인덱스\n",
    "df.index"
   ]
  },
  {
   "cell_type": "code",
   "execution_count": 13,
   "id": "6e8889db-6920-4a68-833c-99643ad67fc9",
   "metadata": {},
   "outputs": [
    {
     "data": {
      "text/plain": [
       "Index(['가격', '대표메뉴'], dtype='object')"
      ]
     },
     "execution_count": 13,
     "metadata": {},
     "output_type": "execute_result"
    }
   ],
   "source": [
    "# 열 이름\n",
    "df.columns"
   ]
  },
  {
   "cell_type": "markdown",
   "id": "cfe28c45-6f4a-47a9-a488-df58ff77e626",
   "metadata": {},
   "source": [
    "# 행 인덱스/열 이름 변경"
   ]
  },
  {
   "cell_type": "code",
   "execution_count": 14,
   "id": "a91b3ad1-154e-4b08-b837-db35d0946b7b",
   "metadata": {},
   "outputs": [],
   "source": [
    "# 행 인덱스 변경\n",
    "df.index = [\"피자집\",\"족발집\"]"
   ]
  },
  {
   "cell_type": "code",
   "execution_count": 15,
   "id": "85bd7e77-0686-4b7b-bd53-25860d8d3732",
   "metadata": {},
   "outputs": [
    {
     "data": {
      "text/html": [
       "<div>\n",
       "<style scoped>\n",
       "    .dataframe tbody tr th:only-of-type {\n",
       "        vertical-align: middle;\n",
       "    }\n",
       "\n",
       "    .dataframe tbody tr th {\n",
       "        vertical-align: top;\n",
       "    }\n",
       "\n",
       "    .dataframe thead th {\n",
       "        text-align: right;\n",
       "    }\n",
       "</style>\n",
       "<table border=\"1\" class=\"dataframe\">\n",
       "  <thead>\n",
       "    <tr style=\"text-align: right;\">\n",
       "      <th></th>\n",
       "      <th>가격</th>\n",
       "      <th>대표메뉴</th>\n",
       "    </tr>\n",
       "  </thead>\n",
       "  <tbody>\n",
       "    <tr>\n",
       "      <th>피자집</th>\n",
       "      <td>2000</td>\n",
       "      <td>페퍼로니피자</td>\n",
       "    </tr>\n",
       "    <tr>\n",
       "      <th>족발집</th>\n",
       "      <td>4000</td>\n",
       "      <td>불족발</td>\n",
       "    </tr>\n",
       "  </tbody>\n",
       "</table>\n",
       "</div>"
      ],
      "text/plain": [
       "       가격    대표메뉴\n",
       "피자집  2000  페퍼로니피자\n",
       "족발집  4000     불족발"
      ]
     },
     "execution_count": 15,
     "metadata": {},
     "output_type": "execute_result"
    }
   ],
   "source": [
    "df"
   ]
  },
  {
   "cell_type": "code",
   "execution_count": 16,
   "id": "277a6964-dcc0-4f1e-a9d7-65e6c34f0d89",
   "metadata": {},
   "outputs": [],
   "source": [
    "# 열 이름 변경\n",
    "df.columns = [\"price\", \"menu\"]"
   ]
  },
  {
   "cell_type": "code",
   "execution_count": 17,
   "id": "97be001d-fdae-47d2-bd89-d62dc8b72a04",
   "metadata": {},
   "outputs": [
    {
     "data": {
      "text/html": [
       "<div>\n",
       "<style scoped>\n",
       "    .dataframe tbody tr th:only-of-type {\n",
       "        vertical-align: middle;\n",
       "    }\n",
       "\n",
       "    .dataframe tbody tr th {\n",
       "        vertical-align: top;\n",
       "    }\n",
       "\n",
       "    .dataframe thead th {\n",
       "        text-align: right;\n",
       "    }\n",
       "</style>\n",
       "<table border=\"1\" class=\"dataframe\">\n",
       "  <thead>\n",
       "    <tr style=\"text-align: right;\">\n",
       "      <th></th>\n",
       "      <th>price</th>\n",
       "      <th>menu</th>\n",
       "    </tr>\n",
       "  </thead>\n",
       "  <tbody>\n",
       "    <tr>\n",
       "      <th>피자집</th>\n",
       "      <td>2000</td>\n",
       "      <td>페퍼로니피자</td>\n",
       "    </tr>\n",
       "    <tr>\n",
       "      <th>족발집</th>\n",
       "      <td>4000</td>\n",
       "      <td>불족발</td>\n",
       "    </tr>\n",
       "  </tbody>\n",
       "</table>\n",
       "</div>"
      ],
      "text/plain": [
       "     price    menu\n",
       "피자집   2000  페퍼로니피자\n",
       "족발집   4000     불족발"
      ]
     },
     "execution_count": 17,
     "metadata": {},
     "output_type": "execute_result"
    }
   ],
   "source": [
    "df"
   ]
  },
  {
   "cell_type": "markdown",
   "id": "c9bde7ac-3128-4544-bffc-da84d12971f2",
   "metadata": {},
   "source": [
    "# 행 인덱스/열 이름 변경(rename 메서드 활용)"
   ]
  },
  {
   "cell_type": "code",
   "execution_count": 22,
   "id": "459a05a8-86b8-4431-bb8c-fa325adb165f",
   "metadata": {},
   "outputs": [
    {
     "data": {
      "text/html": [
       "<div>\n",
       "<style scoped>\n",
       "    .dataframe tbody tr th:only-of-type {\n",
       "        vertical-align: middle;\n",
       "    }\n",
       "\n",
       "    .dataframe tbody tr th {\n",
       "        vertical-align: top;\n",
       "    }\n",
       "\n",
       "    .dataframe thead th {\n",
       "        text-align: right;\n",
       "    }\n",
       "</style>\n",
       "<table border=\"1\" class=\"dataframe\">\n",
       "  <thead>\n",
       "    <tr style=\"text-align: right;\">\n",
       "      <th></th>\n",
       "      <th>가격</th>\n",
       "      <th>대표메뉴</th>\n",
       "    </tr>\n",
       "  </thead>\n",
       "  <tbody>\n",
       "    <tr>\n",
       "      <th>피자집</th>\n",
       "      <td>2000</td>\n",
       "      <td>페퍼로니피자</td>\n",
       "    </tr>\n",
       "    <tr>\n",
       "      <th>족발집</th>\n",
       "      <td>4000</td>\n",
       "      <td>불족발</td>\n",
       "    </tr>\n",
       "  </tbody>\n",
       "</table>\n",
       "</div>"
      ],
      "text/plain": [
       "       가격    대표메뉴\n",
       "피자집  2000  페퍼로니피자\n",
       "족발집  4000     불족발"
      ]
     },
     "execution_count": 22,
     "metadata": {},
     "output_type": "execute_result"
    }
   ],
   "source": [
    "df.rename(columns = {\"price\" : \"가격\", \"menu\" : \"대표메뉴\"})"
   ]
  },
  {
   "cell_type": "code",
   "execution_count": 24,
   "id": "cf55a51e-f5ca-48a4-bde6-b2cc58406909",
   "metadata": {},
   "outputs": [
    {
     "data": {
      "text/html": [
       "<div>\n",
       "<style scoped>\n",
       "    .dataframe tbody tr th:only-of-type {\n",
       "        vertical-align: middle;\n",
       "    }\n",
       "\n",
       "    .dataframe tbody tr th {\n",
       "        vertical-align: top;\n",
       "    }\n",
       "\n",
       "    .dataframe thead th {\n",
       "        text-align: right;\n",
       "    }\n",
       "</style>\n",
       "<table border=\"1\" class=\"dataframe\">\n",
       "  <thead>\n",
       "    <tr style=\"text-align: right;\">\n",
       "      <th></th>\n",
       "      <th>price</th>\n",
       "      <th>menu</th>\n",
       "    </tr>\n",
       "  </thead>\n",
       "  <tbody>\n",
       "    <tr>\n",
       "      <th>피자집</th>\n",
       "      <td>2000</td>\n",
       "      <td>페퍼로니피자</td>\n",
       "    </tr>\n",
       "    <tr>\n",
       "      <th>족발집</th>\n",
       "      <td>4000</td>\n",
       "      <td>불족발</td>\n",
       "    </tr>\n",
       "  </tbody>\n",
       "</table>\n",
       "</div>"
      ],
      "text/plain": [
       "     price    menu\n",
       "피자집   2000  페퍼로니피자\n",
       "족발집   4000     불족발"
      ]
     },
     "execution_count": 24,
     "metadata": {},
     "output_type": "execute_result"
    }
   ],
   "source": [
    "# rename 메서드 실행만으로 원본 객체가 수정되지 않음\n",
    "df"
   ]
  },
  {
   "cell_type": "code",
   "execution_count": 25,
   "id": "ad2cba46-bec5-46c4-9aa2-ebcc0a542265",
   "metadata": {},
   "outputs": [],
   "source": [
    "# 원본 객체를 수정하려면 inplace = True 옵션을 사용\n",
    "df.rename(columns = {\"price\" : \"가격\", \"menu\" : \"대표메뉴\"}, inplace = True)"
   ]
  },
  {
   "cell_type": "code",
   "execution_count": 26,
   "id": "6cde56fa-282e-4c11-a7de-6255593c9623",
   "metadata": {},
   "outputs": [
    {
     "data": {
      "text/html": [
       "<div>\n",
       "<style scoped>\n",
       "    .dataframe tbody tr th:only-of-type {\n",
       "        vertical-align: middle;\n",
       "    }\n",
       "\n",
       "    .dataframe tbody tr th {\n",
       "        vertical-align: top;\n",
       "    }\n",
       "\n",
       "    .dataframe thead th {\n",
       "        text-align: right;\n",
       "    }\n",
       "</style>\n",
       "<table border=\"1\" class=\"dataframe\">\n",
       "  <thead>\n",
       "    <tr style=\"text-align: right;\">\n",
       "      <th></th>\n",
       "      <th>가격</th>\n",
       "      <th>대표메뉴</th>\n",
       "    </tr>\n",
       "  </thead>\n",
       "  <tbody>\n",
       "    <tr>\n",
       "      <th>피자집</th>\n",
       "      <td>2000</td>\n",
       "      <td>페퍼로니피자</td>\n",
       "    </tr>\n",
       "    <tr>\n",
       "      <th>족발집</th>\n",
       "      <td>4000</td>\n",
       "      <td>불족발</td>\n",
       "    </tr>\n",
       "  </tbody>\n",
       "</table>\n",
       "</div>"
      ],
      "text/plain": [
       "       가격    대표메뉴\n",
       "피자집  2000  페퍼로니피자\n",
       "족발집  4000     불족발"
      ]
     },
     "execution_count": 26,
     "metadata": {},
     "output_type": "execute_result"
    }
   ],
   "source": [
    "df"
   ]
  },
  {
   "cell_type": "markdown",
   "id": "1f327341-d13d-4f9c-a10b-2be0b695c50f",
   "metadata": {},
   "source": [
    "# 행/열 삭제\n",
    "- drop( ) 메서드\n",
    "  - axis = 0\n",
    "    - 행 삭제\n",
    "\n",
    "  - axis = 1\n",
    "    - 열 삭제\n",
    "   \n",
    "  - 동시에 여러 행 또는 열 삭제\n",
    "    - 리스트 형태로 입력\n",
    "   \n",
    "  - 기존 객체를 변경하지 않고 새로운 객체를 반환\n",
    "    - 원본 객체를 직접 변경하기 위해서는 inplace = True 옵션 사용"
   ]
  },
  {
   "cell_type": "code",
   "execution_count": 27,
   "id": "913e31dd-dbca-4ae5-8321-1b13ce7f586d",
   "metadata": {},
   "outputs": [],
   "source": [
    "exam_data = {\"국어\" : [27, 91, 74],\n",
    "             \"영어\" : [69, 12, 80],\n",
    "             \"수학\" : [73, 24, 17],\n",
    "             \"과학\" : [72, 61, 38]}\n",
    "df = pd.DataFrame(exam_data, index = [\"학생1\", \"학생2\", \"학생3\"])"
   ]
  },
  {
   "cell_type": "code",
   "execution_count": 28,
   "id": "2d659fa7-6a05-4436-a6c0-bdebe5e383e8",
   "metadata": {},
   "outputs": [
    {
     "data": {
      "text/html": [
       "<div>\n",
       "<style scoped>\n",
       "    .dataframe tbody tr th:only-of-type {\n",
       "        vertical-align: middle;\n",
       "    }\n",
       "\n",
       "    .dataframe tbody tr th {\n",
       "        vertical-align: top;\n",
       "    }\n",
       "\n",
       "    .dataframe thead th {\n",
       "        text-align: right;\n",
       "    }\n",
       "</style>\n",
       "<table border=\"1\" class=\"dataframe\">\n",
       "  <thead>\n",
       "    <tr style=\"text-align: right;\">\n",
       "      <th></th>\n",
       "      <th>국어</th>\n",
       "      <th>영어</th>\n",
       "      <th>수학</th>\n",
       "      <th>과학</th>\n",
       "    </tr>\n",
       "  </thead>\n",
       "  <tbody>\n",
       "    <tr>\n",
       "      <th>학생1</th>\n",
       "      <td>27</td>\n",
       "      <td>69</td>\n",
       "      <td>73</td>\n",
       "      <td>72</td>\n",
       "    </tr>\n",
       "    <tr>\n",
       "      <th>학생2</th>\n",
       "      <td>91</td>\n",
       "      <td>12</td>\n",
       "      <td>24</td>\n",
       "      <td>61</td>\n",
       "    </tr>\n",
       "    <tr>\n",
       "      <th>학생3</th>\n",
       "      <td>74</td>\n",
       "      <td>80</td>\n",
       "      <td>17</td>\n",
       "      <td>38</td>\n",
       "    </tr>\n",
       "  </tbody>\n",
       "</table>\n",
       "</div>"
      ],
      "text/plain": [
       "     국어  영어  수학  과학\n",
       "학생1  27  69  73  72\n",
       "학생2  91  12  24  61\n",
       "학생3  74  80  17  38"
      ]
     },
     "execution_count": 28,
     "metadata": {},
     "output_type": "execute_result"
    }
   ],
   "source": [
    "df"
   ]
  },
  {
   "cell_type": "code",
   "execution_count": 29,
   "id": "f18a81d2-5b7b-4c9e-8de2-c8e43ef96163",
   "metadata": {},
   "outputs": [],
   "source": [
    "df2 = df.copy()"
   ]
  },
  {
   "cell_type": "code",
   "execution_count": 31,
   "id": "e4f19d96-7bc4-4f4c-8b9e-01b8bc37b69c",
   "metadata": {},
   "outputs": [
    {
     "data": {
      "text/plain": [
       "(4689715792, 4873643664)"
      ]
     },
     "execution_count": 31,
     "metadata": {},
     "output_type": "execute_result"
    }
   ],
   "source": [
    "id(df2), id(df)"
   ]
  },
  {
   "cell_type": "markdown",
   "id": "d7497511-3f40-410f-86f5-387a6ee89525",
   "metadata": {},
   "source": [
    "# 행 삭제"
   ]
  },
  {
   "cell_type": "code",
   "execution_count": 33,
   "id": "384e26af-5ec1-4fd9-ba07-3b11716aeae6",
   "metadata": {},
   "outputs": [],
   "source": [
    "df2.drop(\"학생2\", axis = 0, inplace = True)"
   ]
  },
  {
   "cell_type": "code",
   "execution_count": 34,
   "id": "2bf7b509-553d-4ca1-ae70-3fa0df017ef2",
   "metadata": {},
   "outputs": [
    {
     "data": {
      "text/html": [
       "<div>\n",
       "<style scoped>\n",
       "    .dataframe tbody tr th:only-of-type {\n",
       "        vertical-align: middle;\n",
       "    }\n",
       "\n",
       "    .dataframe tbody tr th {\n",
       "        vertical-align: top;\n",
       "    }\n",
       "\n",
       "    .dataframe thead th {\n",
       "        text-align: right;\n",
       "    }\n",
       "</style>\n",
       "<table border=\"1\" class=\"dataframe\">\n",
       "  <thead>\n",
       "    <tr style=\"text-align: right;\">\n",
       "      <th></th>\n",
       "      <th>국어</th>\n",
       "      <th>영어</th>\n",
       "      <th>수학</th>\n",
       "      <th>과학</th>\n",
       "    </tr>\n",
       "  </thead>\n",
       "  <tbody>\n",
       "    <tr>\n",
       "      <th>학생1</th>\n",
       "      <td>27</td>\n",
       "      <td>69</td>\n",
       "      <td>73</td>\n",
       "      <td>72</td>\n",
       "    </tr>\n",
       "    <tr>\n",
       "      <th>학생3</th>\n",
       "      <td>74</td>\n",
       "      <td>80</td>\n",
       "      <td>17</td>\n",
       "      <td>38</td>\n",
       "    </tr>\n",
       "  </tbody>\n",
       "</table>\n",
       "</div>"
      ],
      "text/plain": [
       "     국어  영어  수학  과학\n",
       "학생1  27  69  73  72\n",
       "학생3  74  80  17  38"
      ]
     },
     "execution_count": 34,
     "metadata": {},
     "output_type": "execute_result"
    }
   ],
   "source": [
    "df2"
   ]
  },
  {
   "cell_type": "code",
   "execution_count": 36,
   "id": "d468c63b-5d1f-443b-9b2d-40043ee8ab09",
   "metadata": {},
   "outputs": [],
   "source": [
    "df3 = df[:]"
   ]
  },
  {
   "cell_type": "code",
   "execution_count": 37,
   "id": "4ee012c3-db10-4390-862d-45e888944ff1",
   "metadata": {},
   "outputs": [
    {
     "data": {
      "text/plain": [
       "(4873084752, 4873643664)"
      ]
     },
     "execution_count": 37,
     "metadata": {},
     "output_type": "execute_result"
    }
   ],
   "source": [
    "id(df3), id(df)"
   ]
  },
  {
   "cell_type": "code",
   "execution_count": 43,
   "id": "563962ed-47bc-4b14-a21b-734e87c3b19c",
   "metadata": {},
   "outputs": [
    {
     "data": {
      "text/html": [
       "<div>\n",
       "<style scoped>\n",
       "    .dataframe tbody tr th:only-of-type {\n",
       "        vertical-align: middle;\n",
       "    }\n",
       "\n",
       "    .dataframe tbody tr th {\n",
       "        vertical-align: top;\n",
       "    }\n",
       "\n",
       "    .dataframe thead th {\n",
       "        text-align: right;\n",
       "    }\n",
       "</style>\n",
       "<table border=\"1\" class=\"dataframe\">\n",
       "  <thead>\n",
       "    <tr style=\"text-align: right;\">\n",
       "      <th></th>\n",
       "      <th>국어</th>\n",
       "      <th>영어</th>\n",
       "      <th>수학</th>\n",
       "      <th>과학</th>\n",
       "    </tr>\n",
       "  </thead>\n",
       "  <tbody>\n",
       "    <tr>\n",
       "      <th>학생1</th>\n",
       "      <td>27</td>\n",
       "      <td>69</td>\n",
       "      <td>73</td>\n",
       "      <td>72</td>\n",
       "    </tr>\n",
       "  </tbody>\n",
       "</table>\n",
       "</div>"
      ],
      "text/plain": [
       "     국어  영어  수학  과학\n",
       "학생1  27  69  73  72"
      ]
     },
     "execution_count": 43,
     "metadata": {},
     "output_type": "execute_result"
    }
   ],
   "source": [
    "df3"
   ]
  },
  {
   "cell_type": "code",
   "execution_count": 45,
   "id": "f33e4879-0692-430c-8dae-391d3bec0895",
   "metadata": {},
   "outputs": [
    {
     "data": {
      "text/html": [
       "<div>\n",
       "<style scoped>\n",
       "    .dataframe tbody tr th:only-of-type {\n",
       "        vertical-align: middle;\n",
       "    }\n",
       "\n",
       "    .dataframe tbody tr th {\n",
       "        vertical-align: top;\n",
       "    }\n",
       "\n",
       "    .dataframe thead th {\n",
       "        text-align: right;\n",
       "    }\n",
       "</style>\n",
       "<table border=\"1\" class=\"dataframe\">\n",
       "  <thead>\n",
       "    <tr style=\"text-align: right;\">\n",
       "      <th></th>\n",
       "      <th>국어</th>\n",
       "      <th>영어</th>\n",
       "      <th>수학</th>\n",
       "      <th>과학</th>\n",
       "    </tr>\n",
       "  </thead>\n",
       "  <tbody>\n",
       "    <tr>\n",
       "      <th>학생1</th>\n",
       "      <td>27</td>\n",
       "      <td>69</td>\n",
       "      <td>73</td>\n",
       "      <td>72</td>\n",
       "    </tr>\n",
       "    <tr>\n",
       "      <th>학생2</th>\n",
       "      <td>91</td>\n",
       "      <td>12</td>\n",
       "      <td>24</td>\n",
       "      <td>61</td>\n",
       "    </tr>\n",
       "    <tr>\n",
       "      <th>학생3</th>\n",
       "      <td>74</td>\n",
       "      <td>80</td>\n",
       "      <td>17</td>\n",
       "      <td>38</td>\n",
       "    </tr>\n",
       "  </tbody>\n",
       "</table>\n",
       "</div>"
      ],
      "text/plain": [
       "     국어  영어  수학  과학\n",
       "학생1  27  69  73  72\n",
       "학생2  91  12  24  61\n",
       "학생3  74  80  17  38"
      ]
     },
     "execution_count": 45,
     "metadata": {},
     "output_type": "execute_result"
    }
   ],
   "source": [
    "df"
   ]
  },
  {
   "cell_type": "markdown",
   "id": "16741818-e3e1-4dfb-bfff-abfa7e4a3508",
   "metadata": {},
   "source": [
    "# 열 삭제"
   ]
  },
  {
   "cell_type": "code",
   "execution_count": 46,
   "id": "7bc1687a-96ca-419b-842f-9c371e5972c7",
   "metadata": {},
   "outputs": [],
   "source": [
    "df4 = df.copy()"
   ]
  },
  {
   "cell_type": "code",
   "execution_count": 48,
   "id": "46a9e6b2-7a58-41f0-81f2-8e8b650fe86d",
   "metadata": {},
   "outputs": [],
   "source": [
    "df4.drop(\"국어\", axis = 1, inplace = True)"
   ]
  },
  {
   "cell_type": "code",
   "execution_count": 49,
   "id": "20be5dc0-449b-4dd6-a5c9-772146cac29f",
   "metadata": {},
   "outputs": [
    {
     "data": {
      "text/html": [
       "<div>\n",
       "<style scoped>\n",
       "    .dataframe tbody tr th:only-of-type {\n",
       "        vertical-align: middle;\n",
       "    }\n",
       "\n",
       "    .dataframe tbody tr th {\n",
       "        vertical-align: top;\n",
       "    }\n",
       "\n",
       "    .dataframe thead th {\n",
       "        text-align: right;\n",
       "    }\n",
       "</style>\n",
       "<table border=\"1\" class=\"dataframe\">\n",
       "  <thead>\n",
       "    <tr style=\"text-align: right;\">\n",
       "      <th></th>\n",
       "      <th>영어</th>\n",
       "      <th>수학</th>\n",
       "      <th>과학</th>\n",
       "    </tr>\n",
       "  </thead>\n",
       "  <tbody>\n",
       "    <tr>\n",
       "      <th>학생1</th>\n",
       "      <td>69</td>\n",
       "      <td>73</td>\n",
       "      <td>72</td>\n",
       "    </tr>\n",
       "    <tr>\n",
       "      <th>학생2</th>\n",
       "      <td>12</td>\n",
       "      <td>24</td>\n",
       "      <td>61</td>\n",
       "    </tr>\n",
       "    <tr>\n",
       "      <th>학생3</th>\n",
       "      <td>80</td>\n",
       "      <td>17</td>\n",
       "      <td>38</td>\n",
       "    </tr>\n",
       "  </tbody>\n",
       "</table>\n",
       "</div>"
      ],
      "text/plain": [
       "     영어  수학  과학\n",
       "학생1  69  73  72\n",
       "학생2  12  24  61\n",
       "학생3  80  17  38"
      ]
     },
     "execution_count": 49,
     "metadata": {},
     "output_type": "execute_result"
    }
   ],
   "source": [
    "df4"
   ]
  },
  {
   "cell_type": "code",
   "execution_count": 50,
   "id": "6e705508-a92d-40a7-9184-95ca74b9ec4a",
   "metadata": {},
   "outputs": [],
   "source": [
    "df5 = df.copy()"
   ]
  },
  {
   "cell_type": "code",
   "execution_count": 51,
   "id": "cd819ad0-6e5c-474f-9c0f-7633a3edc5d3",
   "metadata": {},
   "outputs": [],
   "source": [
    "df5.drop([\"영어\", \"수학\"], axis = 1, inplace = True)"
   ]
  },
  {
   "cell_type": "code",
   "execution_count": 52,
   "id": "790cfa6e-10a0-4083-9299-326526a63f29",
   "metadata": {},
   "outputs": [
    {
     "data": {
      "text/html": [
       "<div>\n",
       "<style scoped>\n",
       "    .dataframe tbody tr th:only-of-type {\n",
       "        vertical-align: middle;\n",
       "    }\n",
       "\n",
       "    .dataframe tbody tr th {\n",
       "        vertical-align: top;\n",
       "    }\n",
       "\n",
       "    .dataframe thead th {\n",
       "        text-align: right;\n",
       "    }\n",
       "</style>\n",
       "<table border=\"1\" class=\"dataframe\">\n",
       "  <thead>\n",
       "    <tr style=\"text-align: right;\">\n",
       "      <th></th>\n",
       "      <th>국어</th>\n",
       "      <th>과학</th>\n",
       "    </tr>\n",
       "  </thead>\n",
       "  <tbody>\n",
       "    <tr>\n",
       "      <th>학생1</th>\n",
       "      <td>27</td>\n",
       "      <td>72</td>\n",
       "    </tr>\n",
       "    <tr>\n",
       "      <th>학생2</th>\n",
       "      <td>91</td>\n",
       "      <td>61</td>\n",
       "    </tr>\n",
       "    <tr>\n",
       "      <th>학생3</th>\n",
       "      <td>74</td>\n",
       "      <td>38</td>\n",
       "    </tr>\n",
       "  </tbody>\n",
       "</table>\n",
       "</div>"
      ],
      "text/plain": [
       "     국어  과학\n",
       "학생1  27  72\n",
       "학생2  91  61\n",
       "학생3  74  38"
      ]
     },
     "execution_count": 52,
     "metadata": {},
     "output_type": "execute_result"
    }
   ],
   "source": [
    "df5"
   ]
  },
  {
   "cell_type": "code",
   "execution_count": null,
   "id": "8854f316-89c0-44bf-9080-d9eacfac1f8a",
   "metadata": {},
   "outputs": [],
   "source": []
  }
 ],
 "metadata": {
  "kernelspec": {
   "display_name": "Python 3 (ipykernel)",
   "language": "python",
   "name": "python3"
  },
  "language_info": {
   "codemirror_mode": {
    "name": "ipython",
    "version": 3
   },
   "file_extension": ".py",
   "mimetype": "text/x-python",
   "name": "python",
   "nbconvert_exporter": "python",
   "pygments_lexer": "ipython3",
   "version": "3.13.5"
  }
 },
 "nbformat": 4,
 "nbformat_minor": 5
}
